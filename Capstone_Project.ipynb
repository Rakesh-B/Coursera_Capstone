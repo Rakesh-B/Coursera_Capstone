{
 "cells": [
  {
   "cell_type": "code",
   "execution_count": 88,
   "metadata": {},
   "outputs": [],
   "source": [
    "import pandas as pd\n",
    "\n",
    "import json # library to handle JSON files\n",
    "from geopy.geocoders import Nominatim # convert an address into latitude and longitude values\n",
    "\n",
    "import requests # library to handle requests\n",
    "from pandas.io.json import json_normalize # tranform JSON file into a pandas dataframe\n",
    "import matplotlib.cm as cm\n",
    "import matplotlib.colors as colors\n",
    "\n",
    "# import k-means from clustering stage\n",
    "from sklearn.cluster import KMeans\n",
    "import folium # map rendering library"
   ]
  },
  {
   "cell_type": "code",
   "execution_count": 89,
   "metadata": {},
   "outputs": [],
   "source": [
    "CLIENT_ID = 'IDJCUT0LVSS1DDP2M0KP3ZOSKNKDJ5V42DNNJ2YZF3VC50HB' # your Foursquare ID\n",
    "CLIENT_SECRET = 'L5PJFPZHQHZ21MMHPJKLIHC1E5Y53OMYRIYBED2XARUP1REF' # your Foursquare Secret\n",
    "VERSION = '20180604'\n",
    "LIMIT = 100"
   ]
  },
  {
   "cell_type": "code",
   "execution_count": 90,
   "metadata": {},
   "outputs": [
    {
     "data": {
      "text/html": [
       "<div>\n",
       "<style scoped>\n",
       "    .dataframe tbody tr th:only-of-type {\n",
       "        vertical-align: middle;\n",
       "    }\n",
       "\n",
       "    .dataframe tbody tr th {\n",
       "        vertical-align: top;\n",
       "    }\n",
       "\n",
       "    .dataframe thead th {\n",
       "        text-align: right;\n",
       "    }\n",
       "</style>\n",
       "<table border=\"1\" class=\"dataframe\">\n",
       "  <thead>\n",
       "    <tr style=\"text-align: right;\">\n",
       "      <th></th>\n",
       "      <th>Unnamed: 0</th>\n",
       "      <th>Neighborhood</th>\n",
       "      <th>Latitude</th>\n",
       "      <th>Longitude</th>\n",
       "    </tr>\n",
       "  </thead>\n",
       "  <tbody>\n",
       "    <tr>\n",
       "      <td>0</td>\n",
       "      <td>0</td>\n",
       "      <td>BEDOKVILLE</td>\n",
       "      <td>1.323681</td>\n",
       "      <td>103.947566</td>\n",
       "    </tr>\n",
       "    <tr>\n",
       "      <td>1</td>\n",
       "      <td>1</td>\n",
       "      <td>BRADDELL HEIGHTS ESTATE</td>\n",
       "      <td>1.349106</td>\n",
       "      <td>103.865046</td>\n",
       "    </tr>\n",
       "    <tr>\n",
       "      <td>2</td>\n",
       "      <td>2</td>\n",
       "      <td>BUKIT LOYANG ESTATE</td>\n",
       "      <td>1.361056</td>\n",
       "      <td>103.964245</td>\n",
       "    </tr>\n",
       "    <tr>\n",
       "      <td>3</td>\n",
       "      <td>3</td>\n",
       "      <td>CAPITOL PARK</td>\n",
       "      <td>1.328713</td>\n",
       "      <td>103.817978</td>\n",
       "    </tr>\n",
       "    <tr>\n",
       "      <td>4</td>\n",
       "      <td>4</td>\n",
       "      <td>CASHEW GREEN</td>\n",
       "      <td>1.373039</td>\n",
       "      <td>103.770301</td>\n",
       "    </tr>\n",
       "  </tbody>\n",
       "</table>\n",
       "</div>"
      ],
      "text/plain": [
       "   Unnamed: 0             Neighborhood  Latitude   Longitude\n",
       "0           0               BEDOKVILLE  1.323681  103.947566\n",
       "1           1  BRADDELL HEIGHTS ESTATE  1.349106  103.865046\n",
       "2           2      BUKIT LOYANG ESTATE  1.361056  103.964245\n",
       "3           3             CAPITOL PARK  1.328713  103.817978\n",
       "4           4             CASHEW GREEN  1.373039  103.770301"
      ]
     },
     "execution_count": 90,
     "metadata": {},
     "output_type": "execute_result"
    }
   ],
   "source": [
    "#reading our dataset\n",
    "neighborhoods_subset = pd.read_csv(\"sg_random_samles_clean.csv\")\n",
    "neighborhoods_subset.head()"
   ]
  },
  {
   "cell_type": "code",
   "execution_count": 91,
   "metadata": {},
   "outputs": [],
   "source": [
    "# Select first building (which in our case is BedokVille):\n",
    "neighborhood_name = neighborhoods_subset.loc[0, 'Neighborhood']\n",
    "neighborhood_latitude = neighborhoods_subset.loc[0, 'Latitude'] \n",
    "neighborhood_longitude = neighborhoods_subset.loc[0, 'Longitude'] \n",
    "# limit of number of venues returned by Foursquare API\n",
    "LIMIT = 100 \n",
    "radius = 500"
   ]
  },
  {
   "cell_type": "code",
   "execution_count": 92,
   "metadata": {},
   "outputs": [],
   "source": [
    "url = 'https://api.foursquare.com/v2/venues/explore?&client_id={}&client_secret={}&v={}&ll={},{}&radius={}&limit={}'.format(\n",
    "    CLIENT_ID, \n",
    "    CLIENT_SECRET, \n",
    "    VERSION, \n",
    "    neighborhood_latitude, \n",
    "    neighborhood_longitude, \n",
    "    radius, \n",
    "    LIMIT)\n",
    "results = requests.get(url).json()"
   ]
  },
  {
   "cell_type": "code",
   "execution_count": 93,
   "metadata": {},
   "outputs": [],
   "source": [
    "venues = results['response']['groups'][0]['items']\n",
    "nearby_venues = json_normalize(venues)"
   ]
  },
  {
   "cell_type": "code",
   "execution_count": 94,
   "metadata": {},
   "outputs": [
    {
     "data": {
      "text/html": [
       "<div>\n",
       "<style scoped>\n",
       "    .dataframe tbody tr th:only-of-type {\n",
       "        vertical-align: middle;\n",
       "    }\n",
       "\n",
       "    .dataframe tbody tr th {\n",
       "        vertical-align: top;\n",
       "    }\n",
       "\n",
       "    .dataframe thead th {\n",
       "        text-align: right;\n",
       "    }\n",
       "</style>\n",
       "<table border=\"1\" class=\"dataframe\">\n",
       "  <thead>\n",
       "    <tr style=\"text-align: right;\">\n",
       "      <th></th>\n",
       "      <th>name</th>\n",
       "      <th>categories</th>\n",
       "      <th>lat</th>\n",
       "      <th>lng</th>\n",
       "    </tr>\n",
       "  </thead>\n",
       "  <tbody>\n",
       "    <tr>\n",
       "      <td>0</td>\n",
       "      <td>New Changi Eating House</td>\n",
       "      <td>[{'id': '4bf58dd8d48988d142941735', 'name': 'A...</td>\n",
       "      <td>1.323117</td>\n",
       "      <td>103.945954</td>\n",
       "    </tr>\n",
       "    <tr>\n",
       "      <td>1</td>\n",
       "      <td>Amy's Laksa</td>\n",
       "      <td>[{'id': '4bf58dd8d48988d1d1941735', 'name': 'N...</td>\n",
       "      <td>1.323111</td>\n",
       "      <td>103.945957</td>\n",
       "    </tr>\n",
       "    <tr>\n",
       "      <td>2</td>\n",
       "      <td>Mama Shop @ Blk 165</td>\n",
       "      <td>[{'id': '4bf58dd8d48988d118951735', 'name': 'G...</td>\n",
       "      <td>1.320112</td>\n",
       "      <td>103.946199</td>\n",
       "    </tr>\n",
       "    <tr>\n",
       "      <td>3</td>\n",
       "      <td>Tanah Merah Playground</td>\n",
       "      <td>[{'id': '4bf58dd8d48988d1e7941735', 'name': 'P...</td>\n",
       "      <td>1.327528</td>\n",
       "      <td>103.946284</td>\n",
       "    </tr>\n",
       "    <tr>\n",
       "      <td>4</td>\n",
       "      <td>Changi Naval Base Pick Up Point @ Tanah Merah</td>\n",
       "      <td>[{'id': '4bf58dd8d48988d1fe931735', 'name': 'B...</td>\n",
       "      <td>1.327365</td>\n",
       "      <td>103.945903</td>\n",
       "    </tr>\n",
       "  </tbody>\n",
       "</table>\n",
       "</div>"
      ],
      "text/plain": [
       "                                            name  \\\n",
       "0                        New Changi Eating House   \n",
       "1                                    Amy's Laksa   \n",
       "2                            Mama Shop @ Blk 165   \n",
       "3                         Tanah Merah Playground   \n",
       "4  Changi Naval Base Pick Up Point @ Tanah Merah   \n",
       "\n",
       "                                          categories       lat         lng  \n",
       "0  [{'id': '4bf58dd8d48988d142941735', 'name': 'A...  1.323117  103.945954  \n",
       "1  [{'id': '4bf58dd8d48988d1d1941735', 'name': 'N...  1.323111  103.945957  \n",
       "2  [{'id': '4bf58dd8d48988d118951735', 'name': 'G...  1.320112  103.946199  \n",
       "3  [{'id': '4bf58dd8d48988d1e7941735', 'name': 'P...  1.327528  103.946284  \n",
       "4  [{'id': '4bf58dd8d48988d1fe931735', 'name': 'B...  1.327365  103.945903  "
      ]
     },
     "execution_count": 94,
     "metadata": {},
     "output_type": "execute_result"
    }
   ],
   "source": [
    "# filter columns\n",
    "filtered_columns = ['venue.name', 'venue.categories', 'venue.location.lat', 'venue.location.lng']\n",
    "nearby_venues =nearby_venues.loc[:, filtered_columns]\n",
    "# filter the category for each row\n",
    "#nearby_venues['venue.categories'] = nearby_venues.apply(get_category_type, axis=1)\n",
    "# clean columns\n",
    "nearby_venues.columns = [col.split(\".\")[-1] for col in nearby_venues.columns]\n",
    "nearby_venues.head()"
   ]
  },
  {
   "cell_type": "code",
   "execution_count": 95,
   "metadata": {},
   "outputs": [
    {
     "data": {
      "text/html": [
       "<div style=\"width:100%;\"><div style=\"position:relative;width:100%;height:0;padding-bottom:60%;\"><iframe src=\"data:text/html;charset=utf-8;base64,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\" style=\"position:absolute;width:100%;height:100%;left:0;top:0;border:none !important;\" allowfullscreen webkitallowfullscreen mozallowfullscreen></iframe></div></div>"
      ],
      "text/plain": [
       "<folium.folium.Map at 0x1ffd7969470>"
      ]
     },
     "metadata": {},
     "output_type": "display_data"
    }
   ],
   "source": [
    "venues_map = folium.Map(location=[neighborhood_latitude, neighborhood_longitude], zoom_start=15)\n",
    "# add a red circle marker to represent the BEDOKVILLE\n",
    "folium.CircleMarker(\n",
    "    [neighborhood_latitude, neighborhood_longitude],\n",
    "    radius=10,\n",
    "    color='red',\n",
    "    popup='BEDOKVILLE',\n",
    "    fill = True,\n",
    "    fill_color = 'red',\n",
    "    fill_opacity = 0.6\n",
    ").add_to(venues_map)\n",
    "# add all venues as blue circle markers\n",
    "for lat, lng, label in zip(nearby_venues.lat, nearby_venues.lng, nearby_venues.categories):\n",
    "    folium.CircleMarker(\n",
    "        [lat, lng],\n",
    "        radius=5,\n",
    "        color='blue',\n",
    "        popup=label,\n",
    "        fill = True,\n",
    "        fill_color='blue',\n",
    "        fill_opacity=0.6\n",
    "    ).add_to(venues_map)\n",
    "display(venues_map)"
   ]
  },
  {
   "cell_type": "code",
   "execution_count": 96,
   "metadata": {},
   "outputs": [],
   "source": [
    "neighborhoods = pd.read_csv('singapore_geo.csv')"
   ]
  },
  {
   "cell_type": "code",
   "execution_count": 97,
   "metadata": {},
   "outputs": [
    {
     "name": "stdout",
     "output_type": "stream",
     "text": [
      "The dataframe has 85265 postcodes and 155744 neighborhoods.\n"
     ]
    }
   ],
   "source": [
    "print('The dataframe has {} postcodes and {} neighborhoods.'.format(\n",
    "        len(neighborhoods['Postcode'].unique()),\n",
    "        neighborhoods.shape[0]\n",
    "    )\n",
    ")"
   ]
  },
  {
   "cell_type": "code",
   "execution_count": 98,
   "metadata": {},
   "outputs": [
    {
     "data": {
      "text/html": [
       "<div>\n",
       "<style scoped>\n",
       "    .dataframe tbody tr th:only-of-type {\n",
       "        vertical-align: middle;\n",
       "    }\n",
       "\n",
       "    .dataframe tbody tr th {\n",
       "        vertical-align: top;\n",
       "    }\n",
       "\n",
       "    .dataframe thead th {\n",
       "        text-align: right;\n",
       "    }\n",
       "</style>\n",
       "<table border=\"1\" class=\"dataframe\">\n",
       "  <thead>\n",
       "    <tr style=\"text-align: right;\">\n",
       "      <th></th>\n",
       "      <th>Unnamed: 0</th>\n",
       "      <th>Postcode</th>\n",
       "      <th>Neighborhood</th>\n",
       "      <th>Latitude</th>\n",
       "      <th>Longitude</th>\n",
       "    </tr>\n",
       "  </thead>\n",
       "  <tbody>\n",
       "    <tr>\n",
       "      <td>0</td>\n",
       "      <td>0</td>\n",
       "      <td>18906</td>\n",
       "      <td>SINGAPORE CHINESE CULTURAL CENTRE</td>\n",
       "      <td>1.275829</td>\n",
       "      <td>103.849576</td>\n",
       "    </tr>\n",
       "    <tr>\n",
       "      <td>1</td>\n",
       "      <td>1</td>\n",
       "      <td>18907</td>\n",
       "      <td>TEMPORARY SITE OFFICE</td>\n",
       "      <td>1.274950</td>\n",
       "      <td>103.851665</td>\n",
       "    </tr>\n",
       "    <tr>\n",
       "      <td>2</td>\n",
       "      <td>3</td>\n",
       "      <td>18915</td>\n",
       "      <td>TEMPORARY SITE OFFICE</td>\n",
       "      <td>1.273682</td>\n",
       "      <td>103.860075</td>\n",
       "    </tr>\n",
       "    <tr>\n",
       "      <td>3</td>\n",
       "      <td>4</td>\n",
       "      <td>18925</td>\n",
       "      <td>CITIBANK TRADE_BRANCH</td>\n",
       "      <td>1.276424</td>\n",
       "      <td>103.854759</td>\n",
       "    </tr>\n",
       "    <tr>\n",
       "      <td>4</td>\n",
       "      <td>5</td>\n",
       "      <td>18925</td>\n",
       "      <td>DBS Marina Bay MRT Station</td>\n",
       "      <td>1.276427</td>\n",
       "      <td>103.854598</td>\n",
       "    </tr>\n",
       "  </tbody>\n",
       "</table>\n",
       "</div>"
      ],
      "text/plain": [
       "   Unnamed: 0  Postcode                       Neighborhood  Latitude  \\\n",
       "0           0     18906  SINGAPORE CHINESE CULTURAL CENTRE  1.275829   \n",
       "1           1     18907              TEMPORARY SITE OFFICE  1.274950   \n",
       "2           3     18915              TEMPORARY SITE OFFICE  1.273682   \n",
       "3           4     18925              CITIBANK TRADE_BRANCH  1.276424   \n",
       "4           5     18925         DBS Marina Bay MRT Station  1.276427   \n",
       "\n",
       "    Longitude  \n",
       "0  103.849576  \n",
       "1  103.851665  \n",
       "2  103.860075  \n",
       "3  103.854759  \n",
       "4  103.854598  "
      ]
     },
     "execution_count": 98,
     "metadata": {},
     "output_type": "execute_result"
    }
   ],
   "source": [
    "neighborhoods.head()"
   ]
  },
  {
   "cell_type": "code",
   "execution_count": 99,
   "metadata": {},
   "outputs": [
    {
     "data": {
      "text/html": [
       "<div>\n",
       "<style scoped>\n",
       "    .dataframe tbody tr th:only-of-type {\n",
       "        vertical-align: middle;\n",
       "    }\n",
       "\n",
       "    .dataframe tbody tr th {\n",
       "        vertical-align: top;\n",
       "    }\n",
       "\n",
       "    .dataframe thead th {\n",
       "        text-align: right;\n",
       "    }\n",
       "</style>\n",
       "<table border=\"1\" class=\"dataframe\">\n",
       "  <thead>\n",
       "    <tr style=\"text-align: right;\">\n",
       "      <th></th>\n",
       "      <th>Unnamed: 0</th>\n",
       "      <th>Postcode</th>\n",
       "      <th>Neighborhood</th>\n",
       "      <th>Latitude</th>\n",
       "      <th>Longitude</th>\n",
       "    </tr>\n",
       "  </thead>\n",
       "  <tbody>\n",
       "    <tr>\n",
       "      <td>34839</td>\n",
       "      <td>52820</td>\n",
       "      <td>419910</td>\n",
       "      <td>FRANKEL ESTATE</td>\n",
       "      <td>1.319396</td>\n",
       "      <td>103.914566</td>\n",
       "    </tr>\n",
       "    <tr>\n",
       "      <td>127685</td>\n",
       "      <td>194594</td>\n",
       "      <td>588905</td>\n",
       "      <td>MAYFAIR PARK</td>\n",
       "      <td>1.340750</td>\n",
       "      <td>103.779755</td>\n",
       "    </tr>\n",
       "    <tr>\n",
       "      <td>98572</td>\n",
       "      <td>156599</td>\n",
       "      <td>465607</td>\n",
       "      <td>TANAH MERAH GREEN</td>\n",
       "      <td>1.329652</td>\n",
       "      <td>103.943983</td>\n",
       "    </tr>\n",
       "    <tr>\n",
       "      <td>39790</td>\n",
       "      <td>65432</td>\n",
       "      <td>458411</td>\n",
       "      <td>OPERA ESTATE</td>\n",
       "      <td>1.319086</td>\n",
       "      <td>103.926208</td>\n",
       "    </tr>\n",
       "    <tr>\n",
       "      <td>95575</td>\n",
       "      <td>152847</td>\n",
       "      <td>456648</td>\n",
       "      <td>CASA NALLUR</td>\n",
       "      <td>1.311367</td>\n",
       "      <td>103.932649</td>\n",
       "    </tr>\n",
       "  </tbody>\n",
       "</table>\n",
       "</div>"
      ],
      "text/plain": [
       "        Unnamed: 0  Postcode       Neighborhood  Latitude   Longitude\n",
       "34839        52820    419910     FRANKEL ESTATE  1.319396  103.914566\n",
       "127685      194594    588905       MAYFAIR PARK  1.340750  103.779755\n",
       "98572       156599    465607  TANAH MERAH GREEN  1.329652  103.943983\n",
       "39790        65432    458411       OPERA ESTATE  1.319086  103.926208\n",
       "95575       152847    456648        CASA NALLUR  1.311367  103.932649"
      ]
     },
     "execution_count": 99,
     "metadata": {},
     "output_type": "execute_result"
    }
   ],
   "source": [
    "#Randomly select only 500 neighborhoods\n",
    "neighborhoods_subset = neighborhoods.sample(500\n",
    "                                           )\n",
    "neighborhoods_subset.head()"
   ]
  },
  {
   "cell_type": "code",
   "execution_count": 100,
   "metadata": {},
   "outputs": [
    {
     "name": "stdout",
     "output_type": "stream",
     "text": [
      "(500, 4)\n"
     ]
    },
    {
     "data": {
      "text/html": [
       "<div>\n",
       "<style scoped>\n",
       "    .dataframe tbody tr th:only-of-type {\n",
       "        vertical-align: middle;\n",
       "    }\n",
       "\n",
       "    .dataframe tbody tr th {\n",
       "        vertical-align: top;\n",
       "    }\n",
       "\n",
       "    .dataframe thead th {\n",
       "        text-align: right;\n",
       "    }\n",
       "</style>\n",
       "<table border=\"1\" class=\"dataframe\">\n",
       "  <thead>\n",
       "    <tr style=\"text-align: right;\">\n",
       "      <th></th>\n",
       "      <th>Postcode</th>\n",
       "      <th>Neighborhood</th>\n",
       "      <th>Latitude</th>\n",
       "      <th>Longitude</th>\n",
       "    </tr>\n",
       "  </thead>\n",
       "  <tbody>\n",
       "    <tr>\n",
       "      <td>34839</td>\n",
       "      <td>419910</td>\n",
       "      <td>FRANKEL ESTATE</td>\n",
       "      <td>1.319396</td>\n",
       "      <td>103.914566</td>\n",
       "    </tr>\n",
       "    <tr>\n",
       "      <td>127685</td>\n",
       "      <td>588905</td>\n",
       "      <td>MAYFAIR PARK</td>\n",
       "      <td>1.340750</td>\n",
       "      <td>103.779755</td>\n",
       "    </tr>\n",
       "    <tr>\n",
       "      <td>98572</td>\n",
       "      <td>465607</td>\n",
       "      <td>TANAH MERAH GREEN</td>\n",
       "      <td>1.329652</td>\n",
       "      <td>103.943983</td>\n",
       "    </tr>\n",
       "    <tr>\n",
       "      <td>39790</td>\n",
       "      <td>458411</td>\n",
       "      <td>OPERA ESTATE</td>\n",
       "      <td>1.319086</td>\n",
       "      <td>103.926208</td>\n",
       "    </tr>\n",
       "    <tr>\n",
       "      <td>95575</td>\n",
       "      <td>456648</td>\n",
       "      <td>CASA NALLUR</td>\n",
       "      <td>1.311367</td>\n",
       "      <td>103.932649</td>\n",
       "    </tr>\n",
       "  </tbody>\n",
       "</table>\n",
       "</div>"
      ],
      "text/plain": [
       "        Postcode       Neighborhood  Latitude   Longitude\n",
       "34839     419910     FRANKEL ESTATE  1.319396  103.914566\n",
       "127685    588905       MAYFAIR PARK  1.340750  103.779755\n",
       "98572     465607  TANAH MERAH GREEN  1.329652  103.943983\n",
       "39790     458411       OPERA ESTATE  1.319086  103.926208\n",
       "95575     456648        CASA NALLUR  1.311367  103.932649"
      ]
     },
     "execution_count": 100,
     "metadata": {},
     "output_type": "execute_result"
    }
   ],
   "source": [
    "neighborhoods_subset=neighborhoods_subset.loc[:, ~neighborhoods_subset.columns.str.contains('^Unnamed')]\n",
    "print(neighborhoods_subset.shape)\n",
    "neighborhoods_subset.head()"
   ]
  },
  {
   "cell_type": "code",
   "execution_count": 101,
   "metadata": {},
   "outputs": [
    {
     "data": {
      "text/plain": [
       "(500, 4)"
      ]
     },
     "execution_count": 101,
     "metadata": {},
     "output_type": "execute_result"
    }
   ],
   "source": [
    "neighborhoods_subset.shape"
   ]
  },
  {
   "cell_type": "code",
   "execution_count": 102,
   "metadata": {},
   "outputs": [
    {
     "data": {
      "text/plain": [
       "(465, 4)"
      ]
     },
     "execution_count": 102,
     "metadata": {},
     "output_type": "execute_result"
    }
   ],
   "source": [
    "#Some neighborhoods correspond to the CONSERVATION AREA, which is in multiple locations, therfore CONSERVATION AREAS are excluded from our analysis.\n",
    "to_drop = ['CONSERVATION', 'AREA']\n",
    "neighborhoods_subset=neighborhoods_subset[~neighborhoods_subset.Neighborhood.str.contains(\"CONSERVATION AREA\")]\n",
    "neighborhoods_subset.shape"
   ]
  },
  {
   "cell_type": "code",
   "execution_count": 103,
   "metadata": {},
   "outputs": [
    {
     "data": {
      "text/html": [
       "<div>\n",
       "<style scoped>\n",
       "    .dataframe tbody tr th:only-of-type {\n",
       "        vertical-align: middle;\n",
       "    }\n",
       "\n",
       "    .dataframe tbody tr th {\n",
       "        vertical-align: top;\n",
       "    }\n",
       "\n",
       "    .dataframe thead th {\n",
       "        text-align: right;\n",
       "    }\n",
       "</style>\n",
       "<table border=\"1\" class=\"dataframe\">\n",
       "  <thead>\n",
       "    <tr style=\"text-align: right;\">\n",
       "      <th></th>\n",
       "      <th>Postcode</th>\n",
       "      <th>Neighborhood</th>\n",
       "      <th>Latitude</th>\n",
       "      <th>Longitude</th>\n",
       "    </tr>\n",
       "  </thead>\n",
       "  <tbody>\n",
       "    <tr>\n",
       "      <td>34839</td>\n",
       "      <td>419910</td>\n",
       "      <td>FRANKEL ESTATE</td>\n",
       "      <td>1.319396</td>\n",
       "      <td>103.914566</td>\n",
       "    </tr>\n",
       "    <tr>\n",
       "      <td>127685</td>\n",
       "      <td>588905</td>\n",
       "      <td>MAYFAIR PARK</td>\n",
       "      <td>1.340750</td>\n",
       "      <td>103.779755</td>\n",
       "    </tr>\n",
       "    <tr>\n",
       "      <td>98572</td>\n",
       "      <td>465607</td>\n",
       "      <td>TANAH MERAH GREEN</td>\n",
       "      <td>1.329652</td>\n",
       "      <td>103.943983</td>\n",
       "    </tr>\n",
       "    <tr>\n",
       "      <td>39790</td>\n",
       "      <td>458411</td>\n",
       "      <td>OPERA ESTATE</td>\n",
       "      <td>1.319086</td>\n",
       "      <td>103.926208</td>\n",
       "    </tr>\n",
       "    <tr>\n",
       "      <td>95575</td>\n",
       "      <td>456648</td>\n",
       "      <td>CASA NALLUR</td>\n",
       "      <td>1.311367</td>\n",
       "      <td>103.932649</td>\n",
       "    </tr>\n",
       "  </tbody>\n",
       "</table>\n",
       "</div>"
      ],
      "text/plain": [
       "        Postcode       Neighborhood  Latitude   Longitude\n",
       "34839     419910     FRANKEL ESTATE  1.319396  103.914566\n",
       "127685    588905       MAYFAIR PARK  1.340750  103.779755\n",
       "98572     465607  TANAH MERAH GREEN  1.329652  103.943983\n",
       "39790     458411       OPERA ESTATE  1.319086  103.926208\n",
       "95575     456648        CASA NALLUR  1.311367  103.932649"
      ]
     },
     "execution_count": 103,
     "metadata": {},
     "output_type": "execute_result"
    }
   ],
   "source": [
    "neighborhoods_subset.head()"
   ]
  },
  {
   "cell_type": "code",
   "execution_count": 104,
   "metadata": {},
   "outputs": [
    {
     "data": {
      "text/html": [
       "<div>\n",
       "<style scoped>\n",
       "    .dataframe tbody tr th:only-of-type {\n",
       "        vertical-align: middle;\n",
       "    }\n",
       "\n",
       "    .dataframe tbody tr th {\n",
       "        vertical-align: top;\n",
       "    }\n",
       "\n",
       "    .dataframe thead th {\n",
       "        text-align: right;\n",
       "    }\n",
       "</style>\n",
       "<table border=\"1\" class=\"dataframe\">\n",
       "  <thead>\n",
       "    <tr style=\"text-align: right;\">\n",
       "      <th></th>\n",
       "      <th>Neighborhood</th>\n",
       "      <th>Postcode</th>\n",
       "      <th>Latitude</th>\n",
       "      <th>Longitude</th>\n",
       "    </tr>\n",
       "  </thead>\n",
       "  <tbody>\n",
       "    <tr>\n",
       "      <td>0</td>\n",
       "      <td>24-HOUR WALK-IN CLINIC (MOUNT ALVERNIA HOSPITAL)</td>\n",
       "      <td>1</td>\n",
       "      <td>1</td>\n",
       "      <td>1</td>\n",
       "    </tr>\n",
       "    <tr>\n",
       "      <td>1</td>\n",
       "      <td>ADELPHI PARK ESTATE</td>\n",
       "      <td>1</td>\n",
       "      <td>1</td>\n",
       "      <td>1</td>\n",
       "    </tr>\n",
       "    <tr>\n",
       "      <td>2</td>\n",
       "      <td>AFFLUENCE COURT</td>\n",
       "      <td>1</td>\n",
       "      <td>1</td>\n",
       "      <td>1</td>\n",
       "    </tr>\n",
       "    <tr>\n",
       "      <td>3</td>\n",
       "      <td>ALEGRIA</td>\n",
       "      <td>1</td>\n",
       "      <td>1</td>\n",
       "      <td>1</td>\n",
       "    </tr>\n",
       "    <tr>\n",
       "      <td>4</td>\n",
       "      <td>ALIWAL PARK HOTEL</td>\n",
       "      <td>1</td>\n",
       "      <td>1</td>\n",
       "      <td>1</td>\n",
       "    </tr>\n",
       "  </tbody>\n",
       "</table>\n",
       "</div>"
      ],
      "text/plain": [
       "                                       Neighborhood  Postcode  Latitude  \\\n",
       "0  24-HOUR WALK-IN CLINIC (MOUNT ALVERNIA HOSPITAL)         1         1   \n",
       "1                               ADELPHI PARK ESTATE         1         1   \n",
       "2                                   AFFLUENCE COURT         1         1   \n",
       "3                                           ALEGRIA         1         1   \n",
       "4                                 ALIWAL PARK HOTEL         1         1   \n",
       "\n",
       "   Longitude  \n",
       "0          1  \n",
       "1          1  \n",
       "2          1  \n",
       "3          1  \n",
       "4          1  "
      ]
     },
     "execution_count": 104,
     "metadata": {},
     "output_type": "execute_result"
    }
   ],
   "source": [
    "#cleaning the data\n",
    "group_by_occurence=neighborhoods_subset.groupby('Neighborhood').count().reset_index()\n",
    "group_by_occurence.head()"
   ]
  },
  {
   "cell_type": "code",
   "execution_count": 105,
   "metadata": {},
   "outputs": [
    {
     "data": {
      "text/html": [
       "<div>\n",
       "<style scoped>\n",
       "    .dataframe tbody tr th:only-of-type {\n",
       "        vertical-align: middle;\n",
       "    }\n",
       "\n",
       "    .dataframe tbody tr th {\n",
       "        vertical-align: top;\n",
       "    }\n",
       "\n",
       "    .dataframe thead th {\n",
       "        text-align: right;\n",
       "    }\n",
       "</style>\n",
       "<table border=\"1\" class=\"dataframe\">\n",
       "  <thead>\n",
       "    <tr style=\"text-align: right;\">\n",
       "      <th></th>\n",
       "      <th>Neighborhood</th>\n",
       "      <th>Postcode</th>\n",
       "      <th>Latitude</th>\n",
       "      <th>Longitude</th>\n",
       "    </tr>\n",
       "  </thead>\n",
       "  <tbody>\n",
       "    <tr>\n",
       "      <td>205</td>\n",
       "      <td>OPERA ESTATE</td>\n",
       "      <td>14</td>\n",
       "      <td>14</td>\n",
       "      <td>14</td>\n",
       "    </tr>\n",
       "    <tr>\n",
       "      <td>249</td>\n",
       "      <td>SERANGOON GARDEN ESTATE</td>\n",
       "      <td>8</td>\n",
       "      <td>8</td>\n",
       "      <td>8</td>\n",
       "    </tr>\n",
       "    <tr>\n",
       "      <td>125</td>\n",
       "      <td>HDB-JURONG WEST</td>\n",
       "      <td>7</td>\n",
       "      <td>7</td>\n",
       "      <td>7</td>\n",
       "    </tr>\n",
       "    <tr>\n",
       "      <td>92</td>\n",
       "      <td>FABER HILLS</td>\n",
       "      <td>7</td>\n",
       "      <td>7</td>\n",
       "      <td>7</td>\n",
       "    </tr>\n",
       "    <tr>\n",
       "      <td>154</td>\n",
       "      <td>KEMBANGAN ESTATE</td>\n",
       "      <td>6</td>\n",
       "      <td>6</td>\n",
       "      <td>6</td>\n",
       "    </tr>\n",
       "  </tbody>\n",
       "</table>\n",
       "</div>"
      ],
      "text/plain": [
       "                Neighborhood  Postcode  Latitude  Longitude\n",
       "205             OPERA ESTATE        14        14         14\n",
       "249  SERANGOON GARDEN ESTATE         8         8          8\n",
       "125          HDB-JURONG WEST         7         7          7\n",
       "92               FABER HILLS         7         7          7\n",
       "154         KEMBANGAN ESTATE         6         6          6"
      ]
     },
     "execution_count": 105,
     "metadata": {},
     "output_type": "execute_result"
    }
   ],
   "source": [
    "group_by_occurence.sort_values(by=\"Latitude\",ascending=False).head()"
   ]
  },
  {
   "cell_type": "code",
   "execution_count": 106,
   "metadata": {},
   "outputs": [],
   "source": [
    "df_tmp = group_by_occurence[group_by_occurence['Latitude']>1]"
   ]
  },
  {
   "cell_type": "code",
   "execution_count": 107,
   "metadata": {},
   "outputs": [
    {
     "data": {
      "text/plain": [
       "(57, 4)"
      ]
     },
     "execution_count": 107,
     "metadata": {},
     "output_type": "execute_result"
    }
   ],
   "source": [
    "df_tmp.shape"
   ]
  },
  {
   "cell_type": "code",
   "execution_count": 108,
   "metadata": {},
   "outputs": [
    {
     "data": {
      "text/html": [
       "<div>\n",
       "<style scoped>\n",
       "    .dataframe tbody tr th:only-of-type {\n",
       "        vertical-align: middle;\n",
       "    }\n",
       "\n",
       "    .dataframe tbody tr th {\n",
       "        vertical-align: top;\n",
       "    }\n",
       "\n",
       "    .dataframe thead th {\n",
       "        text-align: right;\n",
       "    }\n",
       "</style>\n",
       "<table border=\"1\" class=\"dataframe\">\n",
       "  <thead>\n",
       "    <tr style=\"text-align: right;\">\n",
       "      <th></th>\n",
       "      <th>Neighborhood</th>\n",
       "      <th>Postcode</th>\n",
       "      <th>Latitude</th>\n",
       "      <th>Longitude</th>\n",
       "    </tr>\n",
       "  </thead>\n",
       "  <tbody>\n",
       "    <tr>\n",
       "      <td>0</td>\n",
       "      <td>24-HOUR WALK-IN CLINIC (MOUNT ALVERNIA HOSPITAL)</td>\n",
       "      <td>1</td>\n",
       "      <td>1</td>\n",
       "      <td>1</td>\n",
       "    </tr>\n",
       "    <tr>\n",
       "      <td>1</td>\n",
       "      <td>ADELPHI PARK ESTATE</td>\n",
       "      <td>1</td>\n",
       "      <td>1</td>\n",
       "      <td>1</td>\n",
       "    </tr>\n",
       "    <tr>\n",
       "      <td>2</td>\n",
       "      <td>AFFLUENCE COURT</td>\n",
       "      <td>1</td>\n",
       "      <td>1</td>\n",
       "      <td>1</td>\n",
       "    </tr>\n",
       "    <tr>\n",
       "      <td>3</td>\n",
       "      <td>ALEGRIA</td>\n",
       "      <td>1</td>\n",
       "      <td>1</td>\n",
       "      <td>1</td>\n",
       "    </tr>\n",
       "    <tr>\n",
       "      <td>4</td>\n",
       "      <td>ALIWAL PARK HOTEL</td>\n",
       "      <td>1</td>\n",
       "      <td>1</td>\n",
       "      <td>1</td>\n",
       "    </tr>\n",
       "  </tbody>\n",
       "</table>\n",
       "</div>"
      ],
      "text/plain": [
       "                                       Neighborhood  Postcode  Latitude  \\\n",
       "0  24-HOUR WALK-IN CLINIC (MOUNT ALVERNIA HOSPITAL)         1         1   \n",
       "1                               ADELPHI PARK ESTATE         1         1   \n",
       "2                                   AFFLUENCE COURT         1         1   \n",
       "3                                           ALEGRIA         1         1   \n",
       "4                                 ALIWAL PARK HOTEL         1         1   \n",
       "\n",
       "   Longitude  \n",
       "0          1  \n",
       "1          1  \n",
       "2          1  \n",
       "3          1  \n",
       "4          1  "
      ]
     },
     "execution_count": 108,
     "metadata": {},
     "output_type": "execute_result"
    }
   ],
   "source": [
    "df_tmp_2 = group_by_occurence[group_by_occurence['Latitude']==1]\n",
    "df_tmp_2.head()"
   ]
  },
  {
   "cell_type": "code",
   "execution_count": 109,
   "metadata": {},
   "outputs": [],
   "source": [
    "def subset_data_frame(input_df1):\n",
    "    Nghbr = []\n",
    "    Lat = []\n",
    "    Long =[]\n",
    "\n",
    "    for name in input_df1.Neighborhood :\n",
    "        Nghbr.append(name)\n",
    "        coordinates = neighborhoods_subset[neighborhoods_subset[\"Neighborhood\"]==name][[\"Latitude\",\"Longitude\"]]\n",
    "        Lat.append(coordinates.iloc[0,0])\n",
    "        Long.append(coordinates.iloc[0,1])\n",
    "    \n",
    "    df_temp_coord = pd.DataFrame({\"Neighborhood\":Nghbr,\"Latitude\":Lat,\"Longitude\":Long})\n",
    "    df_temp_coord=df_temp_coord[[\"Neighborhood\",\"Latitude\",\"Longitude\"]]\n",
    "    \n",
    "    return df_temp_coord"
   ]
  },
  {
   "cell_type": "code",
   "execution_count": 110,
   "metadata": {},
   "outputs": [],
   "source": [
    "df_part1 = subset_data_frame(df_tmp)"
   ]
  },
  {
   "cell_type": "code",
   "execution_count": 111,
   "metadata": {},
   "outputs": [
    {
     "data": {
      "text/html": [
       "<div>\n",
       "<style scoped>\n",
       "    .dataframe tbody tr th:only-of-type {\n",
       "        vertical-align: middle;\n",
       "    }\n",
       "\n",
       "    .dataframe tbody tr th {\n",
       "        vertical-align: top;\n",
       "    }\n",
       "\n",
       "    .dataframe thead th {\n",
       "        text-align: right;\n",
       "    }\n",
       "</style>\n",
       "<table border=\"1\" class=\"dataframe\">\n",
       "  <thead>\n",
       "    <tr style=\"text-align: right;\">\n",
       "      <th></th>\n",
       "      <th>Neighborhood</th>\n",
       "      <th>Latitude</th>\n",
       "      <th>Longitude</th>\n",
       "    </tr>\n",
       "  </thead>\n",
       "  <tbody>\n",
       "    <tr>\n",
       "      <td>0</td>\n",
       "      <td>24-HOUR WALK-IN CLINIC (MOUNT ALVERNIA HOSPITAL)</td>\n",
       "      <td>1.341499</td>\n",
       "      <td>103.837774</td>\n",
       "    </tr>\n",
       "    <tr>\n",
       "      <td>1</td>\n",
       "      <td>ADELPHI PARK ESTATE</td>\n",
       "      <td>1.355015</td>\n",
       "      <td>103.828192</td>\n",
       "    </tr>\n",
       "    <tr>\n",
       "      <td>2</td>\n",
       "      <td>AFFLUENCE COURT</td>\n",
       "      <td>1.350150</td>\n",
       "      <td>103.883062</td>\n",
       "    </tr>\n",
       "    <tr>\n",
       "      <td>3</td>\n",
       "      <td>ALEGRIA</td>\n",
       "      <td>1.324303</td>\n",
       "      <td>103.841018</td>\n",
       "    </tr>\n",
       "    <tr>\n",
       "      <td>4</td>\n",
       "      <td>ALIWAL PARK HOTEL</td>\n",
       "      <td>1.303419</td>\n",
       "      <td>103.860235</td>\n",
       "    </tr>\n",
       "  </tbody>\n",
       "</table>\n",
       "</div>"
      ],
      "text/plain": [
       "                                       Neighborhood  Latitude   Longitude\n",
       "0  24-HOUR WALK-IN CLINIC (MOUNT ALVERNIA HOSPITAL)  1.341499  103.837774\n",
       "1                               ADELPHI PARK ESTATE  1.355015  103.828192\n",
       "2                                   AFFLUENCE COURT  1.350150  103.883062\n",
       "3                                           ALEGRIA  1.324303  103.841018\n",
       "4                                 ALIWAL PARK HOTEL  1.303419  103.860235"
      ]
     },
     "execution_count": 111,
     "metadata": {},
     "output_type": "execute_result"
    }
   ],
   "source": [
    "df_part2 = subset_data_frame(df_tmp_2)\n",
    "df_part2.head()"
   ]
  },
  {
   "cell_type": "code",
   "execution_count": 112,
   "metadata": {},
   "outputs": [
    {
     "data": {
      "text/plain": [
       "(345, 3)"
      ]
     },
     "execution_count": 112,
     "metadata": {},
     "output_type": "execute_result"
    }
   ],
   "source": [
    "df_part1=df_part1.append(df_part2)\n",
    "df_part1.shape"
   ]
  }
 ],
 "metadata": {
  "kernelspec": {
   "display_name": "Python 3",
   "language": "python",
   "name": "python3"
  },
  "language_info": {
   "codemirror_mode": {
    "name": "ipython",
    "version": 3
   },
   "file_extension": ".py",
   "mimetype": "text/x-python",
   "name": "python",
   "nbconvert_exporter": "python",
   "pygments_lexer": "ipython3",
   "version": "3.6.9"
  }
 },
 "nbformat": 4,
 "nbformat_minor": 2
}
